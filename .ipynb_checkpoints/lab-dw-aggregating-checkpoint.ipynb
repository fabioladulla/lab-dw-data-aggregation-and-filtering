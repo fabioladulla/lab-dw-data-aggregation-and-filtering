{
 "cells": [
  {
   "cell_type": "markdown",
   "id": "31969215-2a90-4d8b-ac36-646a7ae13744",
   "metadata": {},
   "source": [
    "# Lab | Data Aggregation and Filtering"
   ]
  },
  {
   "cell_type": "markdown",
   "id": "769df97b-bcc6-4ab0-9b87-eb04853d4351",
   "metadata": {},
   "source": [
    "Objective: Use Python programming techniques to filter and order data subsets, group data by one or more variables, and use aggregation functions to obtain insights, and derive meaningful conclusions from the data."
   ]
  },
  {
   "cell_type": "markdown",
   "id": "a8f08a52-bec0-439b-99cc-11d3809d8b5d",
   "metadata": {},
   "source": [
    "In this challenge, we will continue to work with customer data from an insurance company. We will use the dataset called marketing_customer_analysis.csv, which can be found at the following link:\n",
    "\n",
    "https://raw.githubusercontent.com/data-bootcamp-v4/data/main/marketing_customer_analysis.csv\n",
    "\n",
    "This dataset contains information such as customer demographics, policy details, vehicle information, and the customer's response to the last marketing campaign. Our goal is to explore and analyze this data by performing first data cleaning, formatting, and structuring."
   ]
  },
  {
   "cell_type": "markdown",
   "id": "c2a39af7-a37b-43f1-a413-3e163a55125e",
   "metadata": {},
   "source": [
    "Start by reading the dataset, standardizing column names, dealing with null values and creating the month column. You can do so by using the functions you developed in previous labs, or by reading the clean dataset you saved in the last lab `data structuring and combining`."
   ]
  },
  {
   "cell_type": "markdown",
   "id": "0a3bc930-db26-4fd4-b261-ea03e12f3a26",
   "metadata": {},
   "source": [
    "Then, answer the following questions:"
   ]
  },
  {
   "cell_type": "markdown",
   "id": "9c98ddc5-b041-4c94-ada1-4dfee5c98e50",
   "metadata": {},
   "source": [
    "1. Create a new DataFrame that only includes customers who have a total_claim_amount greater than $1,000 and have a response of \"Yes\" to the last marketing campaign."
   ]
  },
  {
   "cell_type": "markdown",
   "id": "341352f7-305d-4928-be75-4a4a342205b5",
   "metadata": {},
   "source": [
    "2. Analyze the average total_claim_amount by each policy type and gender for customers who have responded \"Yes\" to the last marketing campaign."
   ]
  },
  {
   "cell_type": "markdown",
   "id": "7050f4ac-53c5-4193-a3c0-8699b87196f0",
   "metadata": {},
   "source": [
    "3. Analyze the total number of customers who have policies in each state, and then filter the results to only include states where there are more than 500 customers."
   ]
  },
  {
   "cell_type": "markdown",
   "id": "2661421c-0534-4d5c-b803-d05459277f82",
   "metadata": {},
   "source": [
    "4. Find the median customer lifetime value by education level and gender."
   ]
  },
  {
   "cell_type": "markdown",
   "id": "867b0167-09e2-4111-91c8-b4fb9596d741",
   "metadata": {},
   "source": [
    "5. Find the maximum, minimum, and average number of open complaints by state and policy type."
   ]
  },
  {
   "cell_type": "markdown",
   "id": "81ff02c5-6584-4f21-a358-b918697c6432",
   "metadata": {},
   "source": [
    "6. The marketing team wants to analyze the number of policies sold by state and month.\n",
    "\n",
    "Present the data in a table where the months are arranged as columns and the states are arranged as rows."
   ]
  },
  {
   "cell_type": "markdown",
   "id": "b6aec097-c633-4017-a125-e77a97259cda",
   "metadata": {},
   "source": [
    "7. Display a new DataFrame that contains the number of policies sold by month by state for the top 3 states with the highest number of policies sold.\n",
    "\n",
    "*Hint:* \n",
    "- *To accomplish this, you will first need to group the data by state and month, then count the number of policies sold for each group. Afterwards, you will need to sort the data by the count of policies sold in descending order.*\n",
    "- *Next, you will select the top 3 states with the highest number of policies sold.*\n",
    "- *Finally, you will create a new DataFrame that contains the number of policies sold by month for each of the top 3 states.*"
   ]
  },
  {
   "cell_type": "markdown",
   "id": "ba975b8a-a2cf-4fbf-9f59-ebc381767009",
   "metadata": {},
   "source": [
    "8. The marketing team wants to analyze the effect of different marketing channels on the customer response rate.\n",
    "\n",
    "Hint: You can use melt to unpivot the data and create a table that shows the customer response rate (those who responded \"Yes\") by marketing channel."
   ]
  },
  {
   "cell_type": "markdown",
   "id": "e4378d94-48fb-4850-a802-b1bc8f427b2d",
   "metadata": {},
   "source": [
    "External Resources for Data Filtering: https://towardsdatascience.com/filtering-data-frames-in-pandas-b570b1f834b9"
   ]
  },
  {
   "cell_type": "code",
   "execution_count": 7,
   "id": "449513f4-0459-46a0-a18d-9398d974c9ad",
   "metadata": {},
   "outputs": [
    {
     "data": {
      "text/html": [
       "<div>\n",
       "<style scoped>\n",
       "    .dataframe tbody tr th:only-of-type {\n",
       "        vertical-align: middle;\n",
       "    }\n",
       "\n",
       "    .dataframe tbody tr th {\n",
       "        vertical-align: top;\n",
       "    }\n",
       "\n",
       "    .dataframe thead th {\n",
       "        text-align: right;\n",
       "    }\n",
       "</style>\n",
       "<table border=\"1\" class=\"dataframe\">\n",
       "  <thead>\n",
       "    <tr style=\"text-align: right;\">\n",
       "      <th></th>\n",
       "      <th>unnamed:_0</th>\n",
       "      <th>customer</th>\n",
       "      <th>state</th>\n",
       "      <th>customer_lifetime_value</th>\n",
       "      <th>response</th>\n",
       "      <th>coverage</th>\n",
       "      <th>education</th>\n",
       "      <th>effective_to_date</th>\n",
       "      <th>employmentstatus</th>\n",
       "      <th>gender</th>\n",
       "      <th>...</th>\n",
       "      <th>number_of_policies</th>\n",
       "      <th>policy_type</th>\n",
       "      <th>policy</th>\n",
       "      <th>renew_offer_type</th>\n",
       "      <th>sales_channel</th>\n",
       "      <th>total_claim_amount</th>\n",
       "      <th>vehicle_class</th>\n",
       "      <th>vehicle_size</th>\n",
       "      <th>vehicle_type</th>\n",
       "      <th>month</th>\n",
       "    </tr>\n",
       "  </thead>\n",
       "  <tbody>\n",
       "    <tr>\n",
       "      <th>0</th>\n",
       "      <td>2</td>\n",
       "      <td>LZ68649</td>\n",
       "      <td>Washington</td>\n",
       "      <td>14947.917300</td>\n",
       "      <td>No</td>\n",
       "      <td>Basic</td>\n",
       "      <td>Bachelor</td>\n",
       "      <td>2011-02-10</td>\n",
       "      <td>Employed</td>\n",
       "      <td>M</td>\n",
       "      <td>...</td>\n",
       "      <td>2</td>\n",
       "      <td>Personal Auto</td>\n",
       "      <td>Personal L3</td>\n",
       "      <td>Offer3</td>\n",
       "      <td>Call Center</td>\n",
       "      <td>480.000000</td>\n",
       "      <td>SUV</td>\n",
       "      <td>Medsize</td>\n",
       "      <td>A</td>\n",
       "      <td>2</td>\n",
       "    </tr>\n",
       "    <tr>\n",
       "      <th>1</th>\n",
       "      <td>3</td>\n",
       "      <td>XL78013</td>\n",
       "      <td>Oregon</td>\n",
       "      <td>22332.439460</td>\n",
       "      <td>Yes</td>\n",
       "      <td>Extended</td>\n",
       "      <td>College</td>\n",
       "      <td>2011-01-11</td>\n",
       "      <td>Employed</td>\n",
       "      <td>M</td>\n",
       "      <td>...</td>\n",
       "      <td>2</td>\n",
       "      <td>Corporate Auto</td>\n",
       "      <td>Corporate L3</td>\n",
       "      <td>Offer2</td>\n",
       "      <td>Branch</td>\n",
       "      <td>484.013411</td>\n",
       "      <td>Four-Door Car</td>\n",
       "      <td>Medsize</td>\n",
       "      <td>A</td>\n",
       "      <td>1</td>\n",
       "    </tr>\n",
       "    <tr>\n",
       "      <th>2</th>\n",
       "      <td>10</td>\n",
       "      <td>HG93801</td>\n",
       "      <td>Arizona</td>\n",
       "      <td>5154.764074</td>\n",
       "      <td>No</td>\n",
       "      <td>Extended</td>\n",
       "      <td>High School or Below</td>\n",
       "      <td>2011-01-02</td>\n",
       "      <td>Employed</td>\n",
       "      <td>M</td>\n",
       "      <td>...</td>\n",
       "      <td>1</td>\n",
       "      <td>Corporate Auto</td>\n",
       "      <td>Corporate L3</td>\n",
       "      <td>Offer2</td>\n",
       "      <td>Branch</td>\n",
       "      <td>442.521087</td>\n",
       "      <td>SUV</td>\n",
       "      <td>Large</td>\n",
       "      <td>A</td>\n",
       "      <td>1</td>\n",
       "    </tr>\n",
       "    <tr>\n",
       "      <th>3</th>\n",
       "      <td>13</td>\n",
       "      <td>KR82385</td>\n",
       "      <td>California</td>\n",
       "      <td>5454.587929</td>\n",
       "      <td>No</td>\n",
       "      <td>Basic</td>\n",
       "      <td>Master</td>\n",
       "      <td>2011-01-26</td>\n",
       "      <td>Employed</td>\n",
       "      <td>M</td>\n",
       "      <td>...</td>\n",
       "      <td>4</td>\n",
       "      <td>Personal Auto</td>\n",
       "      <td>Personal L3</td>\n",
       "      <td>Offer4</td>\n",
       "      <td>Call Center</td>\n",
       "      <td>331.200000</td>\n",
       "      <td>Two-Door Car</td>\n",
       "      <td>Medsize</td>\n",
       "      <td>A</td>\n",
       "      <td>1</td>\n",
       "    </tr>\n",
       "    <tr>\n",
       "      <th>4</th>\n",
       "      <td>16</td>\n",
       "      <td>FH51383</td>\n",
       "      <td>California</td>\n",
       "      <td>5326.677654</td>\n",
       "      <td>No</td>\n",
       "      <td>Basic</td>\n",
       "      <td>High School or Below</td>\n",
       "      <td>2011-02-07</td>\n",
       "      <td>Employed</td>\n",
       "      <td>F</td>\n",
       "      <td>...</td>\n",
       "      <td>6</td>\n",
       "      <td>Personal Auto</td>\n",
       "      <td>Personal L3</td>\n",
       "      <td>Offer4</td>\n",
       "      <td>Call Center</td>\n",
       "      <td>300.528579</td>\n",
       "      <td>Two-Door Car</td>\n",
       "      <td>Large</td>\n",
       "      <td>A</td>\n",
       "      <td>2</td>\n",
       "    </tr>\n",
       "  </tbody>\n",
       "</table>\n",
       "<p>5 rows × 27 columns</p>\n",
       "</div>"
      ],
      "text/plain": [
       "   unnamed:_0 customer       state  customer_lifetime_value response  \\\n",
       "0           2  LZ68649  Washington             14947.917300       No   \n",
       "1           3  XL78013      Oregon             22332.439460      Yes   \n",
       "2          10  HG93801     Arizona              5154.764074       No   \n",
       "3          13  KR82385  California              5454.587929       No   \n",
       "4          16  FH51383  California              5326.677654       No   \n",
       "\n",
       "   coverage             education effective_to_date employmentstatus gender  \\\n",
       "0     Basic              Bachelor        2011-02-10         Employed      M   \n",
       "1  Extended               College        2011-01-11         Employed      M   \n",
       "2  Extended  High School or Below        2011-01-02         Employed      M   \n",
       "3     Basic                Master        2011-01-26         Employed      M   \n",
       "4     Basic  High School or Below        2011-02-07         Employed      F   \n",
       "\n",
       "   ...  number_of_policies     policy_type        policy  renew_offer_type  \\\n",
       "0  ...                   2   Personal Auto   Personal L3            Offer3   \n",
       "1  ...                   2  Corporate Auto  Corporate L3            Offer2   \n",
       "2  ...                   1  Corporate Auto  Corporate L3            Offer2   \n",
       "3  ...                   4   Personal Auto   Personal L3            Offer4   \n",
       "4  ...                   6   Personal Auto   Personal L3            Offer4   \n",
       "\n",
       "   sales_channel  total_claim_amount  vehicle_class  vehicle_size  \\\n",
       "0    Call Center          480.000000            SUV       Medsize   \n",
       "1         Branch          484.013411  Four-Door Car       Medsize   \n",
       "2         Branch          442.521087            SUV         Large   \n",
       "3    Call Center          331.200000   Two-Door Car       Medsize   \n",
       "4    Call Center          300.528579   Two-Door Car         Large   \n",
       "\n",
       "  vehicle_type month  \n",
       "0            A     2  \n",
       "1            A     1  \n",
       "2            A     1  \n",
       "3            A     1  \n",
       "4            A     2  \n",
       "\n",
       "[5 rows x 27 columns]"
      ]
     },
     "metadata": {},
     "output_type": "display_data"
    }
   ],
   "source": [
    "import pandas as pd\n",
    "\n",
    "data = pd.read_csv(\"cleaned_marketing_data.csv\")\n",
    "display(data.head())"
   ]
  },
  {
   "cell_type": "code",
   "execution_count": 13,
   "id": "ecebbf4d-3c5a-464c-99c1-75b723928449",
   "metadata": {},
   "outputs": [],
   "source": [
    "new_df = data[(data['total_claim_amount'] > 1000) & (data['response'] == 'Yes')]"
   ]
  },
  {
   "cell_type": "code",
   "execution_count": 28,
   "id": "6fb8e46d-d3bf-447e-833d-1bd36fb0d266",
   "metadata": {},
   "outputs": [],
   "source": [
    "average_claim = data[data['response'] == 'Yes'].groupby(['policy_type', 'gender']).total_claim_amount.mean()"
   ]
  },
  {
   "cell_type": "code",
   "execution_count": 15,
   "id": "4eaaccc9-c94d-4aba-bb19-cb38248e822c",
   "metadata": {},
   "outputs": [],
   "source": [
    "state_policy_counts = data['state'].value_counts()\n",
    "state_policy_counts = state_policy_counts[state_policy_counts > 500]"
   ]
  },
  {
   "cell_type": "code",
   "execution_count": 16,
   "id": "2241a991-baab-41bc-8bc8-c71691525028",
   "metadata": {},
   "outputs": [],
   "source": [
    "median_clv = data.groupby(['education', 'gender']).customer_lifetime_value.median()"
   ]
  },
  {
   "cell_type": "code",
   "execution_count": 29,
   "id": "af372d7b-0c46-4325-9c45-7a5b5bb9496d",
   "metadata": {},
   "outputs": [],
   "source": [
    "complaint_stats = data.groupby(['state', 'policy_type']).number_of_open_complaints.agg(['max', 'min', 'mean'])"
   ]
  },
  {
   "cell_type": "code",
   "execution_count": 33,
   "id": "bd7b11f7-08bb-41db-9afa-466316fb5165",
   "metadata": {},
   "outputs": [],
   "source": [
    "df_policies_sold = data.groupby(['state', 'month'])['number_of_policies'].sum()"
   ]
  },
  {
   "cell_type": "code",
   "execution_count": 37,
   "id": "8a4a486f-ec7f-4873-9ec0-90d539cb72c3",
   "metadata": {},
   "outputs": [],
   "source": [
    "df= data.groupby(['state', 'month'])['number_of_policies'].sum().reset_index()\n",
    "top_states = df.groupby('state')['number_of_policies'].sum().nlargest(3).index\n",
    "df_top_states = df[df['state'].isin(top_states)]"
   ]
  },
  {
   "cell_type": "code",
   "execution_count": 42,
   "id": "93c336ff-a810-4f9a-91ad-ec4439397536",
   "metadata": {},
   "outputs": [],
   "source": [
    "df_melted = pd.melt(data, id_vars='sales_channel', value_vars='response')\n",
    "df_response_rate = df_melted.groupby(['sales_channel', 'value']).size().unstack().fillna(0)\n",
    "response_rate = df_response_rate['Yes'] / df_response_rate.sum(axis=1)"
   ]
  },
  {
   "cell_type": "code",
   "execution_count": null,
   "id": "45dbe1d0-a87f-4e42-91f7-06d03b99324c",
   "metadata": {},
   "outputs": [],
   "source": []
  }
 ],
 "metadata": {
  "kernelspec": {
   "display_name": "Python 3 (ipykernel)",
   "language": "python",
   "name": "python3"
  },
  "language_info": {
   "codemirror_mode": {
    "name": "ipython",
    "version": 3
   },
   "file_extension": ".py",
   "mimetype": "text/x-python",
   "name": "python",
   "nbconvert_exporter": "python",
   "pygments_lexer": "ipython3",
   "version": "3.10.9"
  }
 },
 "nbformat": 4,
 "nbformat_minor": 5
}
